{
  "nbformat": 4,
  "nbformat_minor": 0,
  "metadata": {
    "colab": {
      "name": "Visable_Coding _Challenge.ipynb",
      "provenance": [],
      "collapsed_sections": []
    },
    "kernelspec": {
      "name": "python3",
      "display_name": "Python 3"
    },
    "language_info": {
      "name": "python"
    }
  },
  "cells": [
    {
      "cell_type": "markdown",
      "source": [
        "#### Notebook is mainly divied into these parts:\n",
        "1. Analysis of data\n",
        "2. Data Preprocessing\n",
        "3. Vectorization\n",
        "4. Modelling\n",
        "5. Parameters Optimization using gridCv\n",
        "6. Discussion and Conclusion on the task!\n",
        "\n",
        "\n",
        "!!!!! PS: I have tried to explain the process of coding and approach above each code block individually."
      ],
      "metadata": {
        "id": "LwVMsTqes2Qi"
      }
    },
    {
      "cell_type": "markdown",
      "source": [
        "## Sweet Step :) Importing all good modules \n",
        "I have imported most common modules used for preprocessing steps like pandas, numpy , maplotlib,re,nltk,spacy (especially for german language),misc. sklearn utilities"
      ],
      "metadata": {
        "id": "l78IwnS4trzH"
      }
    },
    {
      "cell_type": "code",
      "execution_count": null,
      "metadata": {
        "id": "B-B12iNAXCUU"
      },
      "outputs": [],
      "source": [
        "import pandas as pd\n",
        "import numpy as np\n",
        "import matplotlib.pyplot as plt\n",
        "import string\n",
        "import re\n",
        "import nltk\n",
        "nltk.download('stopwords')\n",
        "from nltk.stem.snowball import SnowballStemmer\n",
        "from nltk.corpus import stopwords\n",
        "import spacy\n",
        "!python -m spacy download de\n",
        "nlp = spacy.load('de')\n",
        "from sklearn import feature_extraction\n"
      ]
    },
    {
      "cell_type": "code",
      "source": [
        "from sklearn.model_selection import train_test_split\n",
        "from sklearn.feature_extraction.text import TfidfVectorizer\n",
        "from sklearn.linear_model import LogisticRegression\n",
        "from sklearn.svm import LinearSVC\n",
        "from sklearn.ensemble import RandomForestClassifier\n",
        "from sklearn.neural_network import MLPClassifier\n",
        "from sklearn.pipeline import Pipeline\n",
        "from sklearn.model_selection import GridSearchCV\n",
        "from xgboost import XGBClassifier\n",
        "from nltk.stem.snowball import SnowballStemmer\n",
        "from nltk.tokenize import word_tokenize\n",
        "from nltk.corpus import stopwords\n",
        "import numpy as np\n",
        "import sklearn\n"
      ],
      "metadata": {
        "id": "3lVMX2RktEVO"
      },
      "execution_count": 5,
      "outputs": []
    },
    {
      "cell_type": "markdown",
      "source": [
        "## Loading data using pandas"
      ],
      "metadata": {
        "id": "BtsorcKJuG7q"
      }
    },
    {
      "cell_type": "code",
      "source": [
        "data=pd.read_csv('/content/sample_data.csv')"
      ],
      "metadata": {
        "id": "Haz4qqytXZJU"
      },
      "execution_count": 74,
      "outputs": []
    },
    {
      "cell_type": "markdown",
      "source": [
        "## So our data has two columns - text and label."
      ],
      "metadata": {
        "id": "1lRSTd5TuKQM"
      }
    },
    {
      "cell_type": "code",
      "source": [
        "data.head()"
      ],
      "metadata": {
        "colab": {
          "base_uri": "https://localhost:8080/",
          "height": 206
        },
        "id": "yV6XOA5NXeYT",
        "outputId": "d29a21e6-f6db-4456-8e7a-36566eed7024"
      },
      "execution_count": 75,
      "outputs": [
        {
          "output_type": "execute_result",
          "data": {
            "text/html": [
              "\n",
              "  <div id=\"df-97234caf-e578-402b-bb8d-88ccb0b49c13\">\n",
              "    <div class=\"colab-df-container\">\n",
              "      <div>\n",
              "<style scoped>\n",
              "    .dataframe tbody tr th:only-of-type {\n",
              "        vertical-align: middle;\n",
              "    }\n",
              "\n",
              "    .dataframe tbody tr th {\n",
              "        vertical-align: top;\n",
              "    }\n",
              "\n",
              "    .dataframe thead th {\n",
              "        text-align: right;\n",
              "    }\n",
              "</style>\n",
              "<table border=\"1\" class=\"dataframe\">\n",
              "  <thead>\n",
              "    <tr style=\"text-align: right;\">\n",
              "      <th></th>\n",
              "      <th>text</th>\n",
              "      <th>label</th>\n",
              "    </tr>\n",
              "  </thead>\n",
              "  <tbody>\n",
              "    <tr>\n",
              "      <th>0</th>\n",
              "      <td>zucker fabrik</td>\n",
              "      <td>ft</td>\n",
              "    </tr>\n",
              "    <tr>\n",
              "      <th>1</th>\n",
              "      <td>Lebensmittel kommssionierung</td>\n",
              "      <td>ft</td>\n",
              "    </tr>\n",
              "    <tr>\n",
              "      <th>2</th>\n",
              "      <td>geländer biegen</td>\n",
              "      <td>mr</td>\n",
              "    </tr>\n",
              "    <tr>\n",
              "      <th>3</th>\n",
              "      <td>gebäudeausrüstung technische</td>\n",
              "      <td>ct</td>\n",
              "    </tr>\n",
              "    <tr>\n",
              "      <th>4</th>\n",
              "      <td>kürbiskernöl softgels</td>\n",
              "      <td>ft</td>\n",
              "    </tr>\n",
              "  </tbody>\n",
              "</table>\n",
              "</div>\n",
              "      <button class=\"colab-df-convert\" onclick=\"convertToInteractive('df-97234caf-e578-402b-bb8d-88ccb0b49c13')\"\n",
              "              title=\"Convert this dataframe to an interactive table.\"\n",
              "              style=\"display:none;\">\n",
              "        \n",
              "  <svg xmlns=\"http://www.w3.org/2000/svg\" height=\"24px\"viewBox=\"0 0 24 24\"\n",
              "       width=\"24px\">\n",
              "    <path d=\"M0 0h24v24H0V0z\" fill=\"none\"/>\n",
              "    <path d=\"M18.56 5.44l.94 2.06.94-2.06 2.06-.94-2.06-.94-.94-2.06-.94 2.06-2.06.94zm-11 1L8.5 8.5l.94-2.06 2.06-.94-2.06-.94L8.5 2.5l-.94 2.06-2.06.94zm10 10l.94 2.06.94-2.06 2.06-.94-2.06-.94-.94-2.06-.94 2.06-2.06.94z\"/><path d=\"M17.41 7.96l-1.37-1.37c-.4-.4-.92-.59-1.43-.59-.52 0-1.04.2-1.43.59L10.3 9.45l-7.72 7.72c-.78.78-.78 2.05 0 2.83L4 21.41c.39.39.9.59 1.41.59.51 0 1.02-.2 1.41-.59l7.78-7.78 2.81-2.81c.8-.78.8-2.07 0-2.86zM5.41 20L4 18.59l7.72-7.72 1.47 1.35L5.41 20z\"/>\n",
              "  </svg>\n",
              "      </button>\n",
              "      \n",
              "  <style>\n",
              "    .colab-df-container {\n",
              "      display:flex;\n",
              "      flex-wrap:wrap;\n",
              "      gap: 12px;\n",
              "    }\n",
              "\n",
              "    .colab-df-convert {\n",
              "      background-color: #E8F0FE;\n",
              "      border: none;\n",
              "      border-radius: 50%;\n",
              "      cursor: pointer;\n",
              "      display: none;\n",
              "      fill: #1967D2;\n",
              "      height: 32px;\n",
              "      padding: 0 0 0 0;\n",
              "      width: 32px;\n",
              "    }\n",
              "\n",
              "    .colab-df-convert:hover {\n",
              "      background-color: #E2EBFA;\n",
              "      box-shadow: 0px 1px 2px rgba(60, 64, 67, 0.3), 0px 1px 3px 1px rgba(60, 64, 67, 0.15);\n",
              "      fill: #174EA6;\n",
              "    }\n",
              "\n",
              "    [theme=dark] .colab-df-convert {\n",
              "      background-color: #3B4455;\n",
              "      fill: #D2E3FC;\n",
              "    }\n",
              "\n",
              "    [theme=dark] .colab-df-convert:hover {\n",
              "      background-color: #434B5C;\n",
              "      box-shadow: 0px 1px 3px 1px rgba(0, 0, 0, 0.15);\n",
              "      filter: drop-shadow(0px 1px 2px rgba(0, 0, 0, 0.3));\n",
              "      fill: #FFFFFF;\n",
              "    }\n",
              "  </style>\n",
              "\n",
              "      <script>\n",
              "        const buttonEl =\n",
              "          document.querySelector('#df-97234caf-e578-402b-bb8d-88ccb0b49c13 button.colab-df-convert');\n",
              "        buttonEl.style.display =\n",
              "          google.colab.kernel.accessAllowed ? 'block' : 'none';\n",
              "\n",
              "        async function convertToInteractive(key) {\n",
              "          const element = document.querySelector('#df-97234caf-e578-402b-bb8d-88ccb0b49c13');\n",
              "          const dataTable =\n",
              "            await google.colab.kernel.invokeFunction('convertToInteractive',\n",
              "                                                     [key], {});\n",
              "          if (!dataTable) return;\n",
              "\n",
              "          const docLinkHtml = 'Like what you see? Visit the ' +\n",
              "            '<a target=\"_blank\" href=https://colab.research.google.com/notebooks/data_table.ipynb>data table notebook</a>'\n",
              "            + ' to learn more about interactive tables.';\n",
              "          element.innerHTML = '';\n",
              "          dataTable['output_type'] = 'display_data';\n",
              "          await google.colab.output.renderOutput(dataTable, element);\n",
              "          const docLink = document.createElement('div');\n",
              "          docLink.innerHTML = docLinkHtml;\n",
              "          element.appendChild(docLink);\n",
              "        }\n",
              "      </script>\n",
              "    </div>\n",
              "  </div>\n",
              "  "
            ],
            "text/plain": [
              "                           text label\n",
              "0                 zucker fabrik    ft\n",
              "1  Lebensmittel kommssionierung    ft\n",
              "2               geländer biegen    mr\n",
              "3  gebäudeausrüstung technische    ct\n",
              "4         kürbiskernöl softgels    ft"
            ]
          },
          "metadata": {},
          "execution_count": 75
        }
      ]
    },
    {
      "cell_type": "markdown",
      "source": [
        "## Our data has 37295 data points"
      ],
      "metadata": {
        "id": "XjFbQYVnuRp0"
      }
    },
    {
      "cell_type": "code",
      "source": [
        "data.shape"
      ],
      "metadata": {
        "colab": {
          "base_uri": "https://localhost:8080/"
        },
        "id": "D7bDDBMQuOcM",
        "outputId": "8b06639e-bd16-4246-b3b8-50a27856bd20"
      },
      "execution_count": 76,
      "outputs": [
        {
          "output_type": "execute_result",
          "data": {
            "text/plain": [
              "(37295, 2)"
            ]
          },
          "metadata": {},
          "execution_count": 76
        }
      ]
    },
    {
      "cell_type": "markdown",
      "source": [
        "## checking whether data has any nan values\n",
        "\n",
        "- label column has some nan values which should be removed"
      ],
      "metadata": {
        "id": "KqjfjOTfuZYH"
      }
    },
    {
      "cell_type": "code",
      "source": [
        "data.isna().any()"
      ],
      "metadata": {
        "colab": {
          "base_uri": "https://localhost:8080/"
        },
        "id": "xZ-n5YOFuW0W",
        "outputId": "f498f95e-7a0a-41f2-e13f-38c14e3919ac"
      },
      "execution_count": 77,
      "outputs": [
        {
          "output_type": "execute_result",
          "data": {
            "text/plain": [
              "text     False\n",
              "label     True\n",
              "dtype: bool"
            ]
          },
          "metadata": {},
          "execution_count": 77
        }
      ]
    },
    {
      "cell_type": "markdown",
      "source": [
        "## dropping nan values across data"
      ],
      "metadata": {
        "id": "muUQrOOrunvi"
      }
    },
    {
      "cell_type": "code",
      "source": [
        "data.dropna(inplace=True)"
      ],
      "metadata": {
        "id": "E_umfm0yusQl"
      },
      "execution_count": 78,
      "outputs": []
    },
    {
      "cell_type": "markdown",
      "source": [
        "## Distribution of data across different class categories"
      ],
      "metadata": {
        "id": "Rq61y83Guu1o"
      }
    },
    {
      "cell_type": "code",
      "source": [
        "data['label'].value_counts().plot.bar()\n",
        "plt.xlabel('Classes')\n",
        "plt.ylabel('Count')\n",
        "plt.title('Count of data points for each class')\n",
        "plt.show()"
      ],
      "metadata": {
        "colab": {
          "base_uri": "https://localhost:8080/",
          "height": 304
        },
        "id": "8wTlyNsCXfet",
        "outputId": "b4486e59-58f4-462b-df67-3c901993dc6f"
      },
      "execution_count": 8,
      "outputs": [
        {
          "output_type": "display_data",
          "data": {
            "image/png": "[encoded data removed]",
            "text/plain": [
              "<Figure size 432x288 with 1 Axes>"
            ]
          },
          "metadata": {
            "needs_background": "light"
          }
        }
      ]
    },
    {
      "cell_type": "markdown",
      "source": [
        "## Finding average length of every abstarct"
      ],
      "metadata": {
        "id": "py0iW35Og3gv"
      }
    },
    {
      "cell_type": "code",
      "source": [
        "data['wordcount']=data['text'].apply(lambda x: len(str(x).split(' ')))\n"
      ],
      "metadata": {
        "id": "za1BD4WKgu_4"
      },
      "execution_count": 9,
      "outputs": []
    },
    {
      "cell_type": "code",
      "source": [
        "data[['text','wordcount']].head()"
      ],
      "metadata": {
        "colab": {
          "base_uri": "https://localhost:8080/",
          "height": 206
        },
        "id": "US8G6ulohEHD",
        "outputId": "616b90e8-467b-4f32-a8d8-73f88b8a2135"
      },
      "execution_count": 10,
      "outputs": [
        {
          "output_type": "execute_result",
          "data": {
            "text/html": [
              "\n",
              "  <div id=\"df-80b47b85-d858-453a-9cbe-1f58ad2c4aab\">\n",
              "    <div class=\"colab-df-container\">\n",
              "      <div>\n",
              "<style scoped>\n",
              "    .dataframe tbody tr th:only-of-type {\n",
              "        vertical-align: middle;\n",
              "    }\n",
              "\n",
              "    .dataframe tbody tr th {\n",
              "        vertical-align: top;\n",
              "    }\n",
              "\n",
              "    .dataframe thead th {\n",
              "        text-align: right;\n",
              "    }\n",
              "</style>\n",
              "<table border=\"1\" class=\"dataframe\">\n",
              "  <thead>\n",
              "    <tr style=\"text-align: right;\">\n",
              "      <th></th>\n",
              "      <th>text</th>\n",
              "      <th>wordcount</th>\n",
              "    </tr>\n",
              "  </thead>\n",
              "  <tbody>\n",
              "    <tr>\n",
              "      <th>0</th>\n",
              "      <td>zucker fabrik</td>\n",
              "      <td>2</td>\n",
              "    </tr>\n",
              "    <tr>\n",
              "      <th>1</th>\n",
              "      <td>Lebensmittel kommssionierung</td>\n",
              "      <td>2</td>\n",
              "    </tr>\n",
              "    <tr>\n",
              "      <th>2</th>\n",
              "      <td>geländer biegen</td>\n",
              "      <td>2</td>\n",
              "    </tr>\n",
              "    <tr>\n",
              "      <th>3</th>\n",
              "      <td>gebäudeausrüstung technische</td>\n",
              "      <td>2</td>\n",
              "    </tr>\n",
              "    <tr>\n",
              "      <th>4</th>\n",
              "      <td>kürbiskernöl softgels</td>\n",
              "      <td>2</td>\n",
              "    </tr>\n",
              "  </tbody>\n",
              "</table>\n",
              "</div>\n",
              "      <button class=\"colab-df-convert\" onclick=\"convertToInteractive('df-80b47b85-d858-453a-9cbe-1f58ad2c4aab')\"\n",
              "              title=\"Convert this dataframe to an interactive table.\"\n",
              "              style=\"display:none;\">\n",
              "        \n",
              "  <svg xmlns=\"http://www.w3.org/2000/svg\" height=\"24px\"viewBox=\"0 0 24 24\"\n",
              "       width=\"24px\">\n",
              "    <path d=\"M0 0h24v24H0V0z\" fill=\"none\"/>\n",
              "    <path d=\"M18.56 5.44l.94 2.06.94-2.06 2.06-.94-2.06-.94-.94-2.06-.94 2.06-2.06.94zm-11 1L8.5 8.5l.94-2.06 2.06-.94-2.06-.94L8.5 2.5l-.94 2.06-2.06.94zm10 10l.94 2.06.94-2.06 2.06-.94-2.06-.94-.94-2.06-.94 2.06-2.06.94z\"/><path d=\"M17.41 7.96l-1.37-1.37c-.4-.4-.92-.59-1.43-.59-.52 0-1.04.2-1.43.59L10.3 9.45l-7.72 7.72c-.78.78-.78 2.05 0 2.83L4 21.41c.39.39.9.59 1.41.59.51 0 1.02-.2 1.41-.59l7.78-7.78 2.81-2.81c.8-.78.8-2.07 0-2.86zM5.41 20L4 18.59l7.72-7.72 1.47 1.35L5.41 20z\"/>\n",
              "  </svg>\n",
              "      </button>\n",
              "      \n",
              "  <style>\n",
              "    .colab-df-container {\n",
              "      display:flex;\n",
              "      flex-wrap:wrap;\n",
              "      gap: 12px;\n",
              "    }\n",
              "\n",
              "    .colab-df-convert {\n",
              "      background-color: #E8F0FE;\n",
              "      border: none;\n",
              "      border-radius: 50%;\n",
              "      cursor: pointer;\n",
              "      display: none;\n",
              "      fill: #1967D2;\n",
              "      height: 32px;\n",
              "      padding: 0 0 0 0;\n",
              "      width: 32px;\n",
              "    }\n",
              "\n",
              "    .colab-df-convert:hover {\n",
              "      background-color: #E2EBFA;\n",
              "      box-shadow: 0px 1px 2px rgba(60, 64, 67, 0.3), 0px 1px 3px 1px rgba(60, 64, 67, 0.15);\n",
              "      fill: #174EA6;\n",
              "    }\n",
              "\n",
              "    [theme=dark] .colab-df-convert {\n",
              "      background-color: #3B4455;\n",
              "      fill: #D2E3FC;\n",
              "    }\n",
              "\n",
              "    [theme=dark] .colab-df-convert:hover {\n",
              "      background-color: #434B5C;\n",
              "      box-shadow: 0px 1px 3px 1px rgba(0, 0, 0, 0.15);\n",
              "      filter: drop-shadow(0px 1px 2px rgba(0, 0, 0, 0.3));\n",
              "      fill: #FFFFFF;\n",
              "    }\n",
              "  </style>\n",
              "\n",
              "      <script>\n",
              "        const buttonEl =\n",
              "          document.querySelector('#df-80b47b85-d858-453a-9cbe-1f58ad2c4aab button.colab-df-convert');\n",
              "        buttonEl.style.display =\n",
              "          google.colab.kernel.accessAllowed ? 'block' : 'none';\n",
              "\n",
              "        async function convertToInteractive(key) {\n",
              "          const element = document.querySelector('#df-80b47b85-d858-453a-9cbe-1f58ad2c4aab');\n",
              "          const dataTable =\n",
              "            await google.colab.kernel.invokeFunction('convertToInteractive',\n",
              "                                                     [key], {});\n",
              "          if (!dataTable) return;\n",
              "\n",
              "          const docLinkHtml = 'Like what you see? Visit the ' +\n",
              "            '<a target=\"_blank\" href=https://colab.research.google.com/notebooks/data_table.ipynb>data table notebook</a>'\n",
              "            + ' to learn more about interactive tables.';\n",
              "          element.innerHTML = '';\n",
              "          dataTable['output_type'] = 'display_data';\n",
              "          await google.colab.output.renderOutput(dataTable, element);\n",
              "          const docLink = document.createElement('div');\n",
              "          docLink.innerHTML = docLinkHtml;\n",
              "          element.appendChild(docLink);\n",
              "        }\n",
              "      </script>\n",
              "    </div>\n",
              "  </div>\n",
              "  "
            ],
            "text/plain": [
              "                           text  wordcount\n",
              "0                 zucker fabrik          2\n",
              "1  Lebensmittel kommssionierung          2\n",
              "2               geländer biegen          2\n",
              "3  gebäudeausrüstung technische          2\n",
              "4         kürbiskernöl softgels          2"
            ]
          },
          "metadata": {},
          "execution_count": 10
        }
      ]
    },
    {
      "cell_type": "code",
      "source": [
        "data.wordcount.describe()"
      ],
      "metadata": {
        "colab": {
          "base_uri": "https://localhost:8080/"
        },
        "id": "QUsJ9zAdhJBs",
        "outputId": "13dbd321-adaa-4c89-b700-f202e5881e2c"
      },
      "execution_count": 11,
      "outputs": [
        {
          "output_type": "execute_result",
          "data": {
            "text/plain": [
              "count    37295.000000\n",
              "mean         2.524896\n",
              "std          1.737975\n",
              "min          1.000000\n",
              "25%          2.000000\n",
              "50%          2.000000\n",
              "75%          3.000000\n",
              "max         98.000000\n",
              "Name: wordcount, dtype: float64"
            ]
          },
          "metadata": {},
          "execution_count": 11
        }
      ]
    },
    {
      "cell_type": "markdown",
      "source": [
        "### So average length of words per sentance is around 2 and max is 98 ,min is 1."
      ],
      "metadata": {
        "id": "EJTlknmThPc9"
      }
    },
    {
      "cell_type": "markdown",
      "source": [
        "## Top 50 Common and Uncommon Words in corpus of text"
      ],
      "metadata": {
        "id": "7NCOrjyphXwD"
      }
    },
    {
      "cell_type": "code",
      "source": [
        "#Identify common words\n",
        "print('common words list ---------------------------------------')\n",
        "common = pd.Series(' '.join(data['text']).split()).value_counts()[:50]\n",
        "print(common)\n",
        "print('<<-------------------------------------------------------------->>')\n",
        "print('Uncommon words list ---------------------------------------')\n",
        "\n",
        "uncommon=pd.Series(' '.join(data['text']).split()).value_counts()[-500:]\n",
        "print(uncommon)"
      ],
      "metadata": {
        "colab": {
          "base_uri": "https://localhost:8080/"
        },
        "id": "t1lYMjOrhaJ6",
        "outputId": "35f03a6d-7d68-487d-8ebd-15ed19ce90bd"
      },
      "execution_count": 43,
      "outputs": [
        {
          "output_type": "stream",
          "name": "stdout",
          "text": [
            "common words list ---------------------------------------\n",
            "für              3849\n",
            "von              1521\n",
            "und              1457\n",
            "aus              1228\n",
            "cnc              1107\n",
            "lebensmittel      865\n",
            "mit               685\n",
            "kunststoff        597\n",
            "verpackung        522\n",
            "bio               499\n",
            "verpackungen      435\n",
            "Lebensmittel      412\n",
            "drehteile         333\n",
            "holz              324\n",
            "in                322\n",
            "CNC               315\n",
            "hersteller        308\n",
            "fräsen            304\n",
            "吉祥                300\n",
            "die               298\n",
            "karton            291\n",
            "Lohnabfüllung     287\n",
            "im                277\n",
            "pulver            252\n",
            "flaschen          243\n",
            "Kunststoff        227\n",
            "bau               224\n",
            "papier            215\n",
            "fräsarbeiten      194\n",
            "Verpackungen      188\n",
            "maschinen         186\n",
            "metall            183\n",
            "getränke          183\n",
            "Verpackung        179\n",
            "wasser            177\n",
            "chemie            175\n",
            "silikon           173\n",
            "dosen             169\n",
            "gas               168\n",
            "beutel            167\n",
            "gemüse            165\n",
            "lohn              162\n",
            "edelstahl         161\n",
            "obst              161\n",
            "Holz              158\n",
            "deckel            155\n",
            "Bio               155\n",
            "kosmetik          148\n",
            "lohnabfüllung     147\n",
            "metallbau         146\n",
            "dtype: int64\n",
            "<<-------------------------------------------------------------->>\n",
            "Uncommon words list ---------------------------------------\n",
            "partyartikel         1\n",
            "Nixtamalisiertes     1\n",
            "Maismehl             1\n",
            "04025440103          1\n",
            "überdachungen        1\n",
            "                    ..\n",
            "ras                  1\n",
            "el                   1\n",
            "hanout               1\n",
            "weisser              1\n",
            "hydraulikzylinder    1\n",
            "Length: 500, dtype: int64\n"
          ]
        }
      ]
    },
    {
      "cell_type": "markdown",
      "source": [
        "## Importing Stop words for german langauge\n",
        "\n",
        "<b>Reason for removal :</b> <br>\n",
        "Stopwords are common words that are present in the text but generally do not contribute to the meaning of a sentence. They hold almost no importance for the purposes of information retrieval and natural language processing. They can safely be ignored without sacrificing the meaning of the sentence."
      ],
      "metadata": {
        "id": "4n_Kg9qUu-LE"
      }
    },
    {
      "cell_type": "code",
      "source": [
        "stop_words = set(stopwords.words(\"german\"))\n",
        "stemmer = SnowballStemmer(\"german\")\n",
        "nltk.download('punkt')"
      ],
      "metadata": {
        "colab": {
          "base_uri": "https://localhost:8080/"
        },
        "id": "eLgQzeJoh3Tj",
        "outputId": "3eecee94-4dfa-4178-c42b-6af056146fb6"
      },
      "execution_count": 12,
      "outputs": [
        {
          "output_type": "stream",
          "name": "stdout",
          "text": [
            "[nltk_data] Downloading package punkt to /root/nltk_data...\n",
            "[nltk_data]   Unzipping tokenizers/punkt.zip.\n"
          ]
        },
        {
          "output_type": "execute_result",
          "data": {
            "text/plain": [
              "True"
            ]
          },
          "metadata": {},
          "execution_count": 12
        }
      ]
    },
    {
      "cell_type": "markdown",
      "source": [
        "## Text cleaning:\n",
        "For cleaning I have used these steps:\n",
        "1. remove any html tags (< /br> often found)\n",
        "2. Keep only ASCII + European Chars and whitespace, no digits\n",
        "3. remove single letter chars\n",
        "4. convert all whitespaces (tabs etc.) to single wspace\n",
        "5. removing unncessary tags spaces from the words\n",
        "6. Tokenizing the words and lowering their cases\n",
        "7. Stemming( Importance : Stemming is a natural language processing technique that lowers inflection in words to their root forms, hence aiding in the preprocessing of text, words, and documents for text normalization. )"
      ],
      "metadata": {
        "id": "kZERkkUpvOr5"
      }
    },
    {
      "cell_type": "code",
      "source": [
        "def clean_mydata(text):\n",
        "    RE_WSPACE = re.compile(r\"\\s+\", re.IGNORECASE)\n",
        "    RE_TAGS = re.compile(r\"<[^>]+>\")\n",
        "    RE_ASCII = re.compile(r\"[^A-Za-zÀ-ž ]\", re.IGNORECASE)\n",
        "    RE_SINGLECHAR = re.compile(r\"\\b[A-Za-zÀ-ž]\\b\", re.IGNORECASE)\n",
        "    \n",
        "\n",
        "    text = re.sub(RE_TAGS, \" \", text)\n",
        "    text = re.sub(RE_ASCII, \" \", text)\n",
        "    text = re.sub(RE_SINGLECHAR, \" \", text)\n",
        "    text = re.sub(RE_WSPACE, \" \", text)\n",
        "\n",
        "    word_tokens = word_tokenize(text)\n",
        "    words_tokens_lower = [word.lower() for word in word_tokens]\n",
        "\n",
        "    \n",
        "    ##Stemming\n",
        "    text = [stemmer.stem(word) for word in words_tokens_lower if not word in stop_words] \n",
        "    doc = nlp(' '.join(text))\n",
        "    result = ' '.join([x.lemma_ for x in doc]) \n",
        "    return result"
      ],
      "metadata": {
        "id": "qDLwSMx2Xv4c"
      },
      "execution_count": 13,
      "outputs": []
    },
    {
      "cell_type": "code",
      "source": [
        "data['cleaned']=data['text'].apply(lambda x:clean_mydata(x))"
      ],
      "metadata": {
        "id": "O6pLqr3EeC_q"
      },
      "execution_count": 14,
      "outputs": []
    },
    {
      "cell_type": "markdown",
      "source": [
        "## Data after cleaning "
      ],
      "metadata": {
        "id": "fpFOLAxXwVxm"
      }
    },
    {
      "cell_type": "code",
      "source": [
        "data.head()"
      ],
      "metadata": {
        "colab": {
          "base_uri": "https://localhost:8080/",
          "height": 206
        },
        "id": "XnEACPXMlr4_",
        "outputId": "970dde5b-3f28-4008-d32b-c0975fa3fe0d"
      },
      "execution_count": 15,
      "outputs": [
        {
          "output_type": "execute_result",
          "data": {
            "text/html": [
              "\n",
              "  <div id=\"df-3afeaf8f-d8b5-41fd-9222-560dd9426caa\">\n",
              "    <div class=\"colab-df-container\">\n",
              "      <div>\n",
              "<style scoped>\n",
              "    .dataframe tbody tr th:only-of-type {\n",
              "        vertical-align: middle;\n",
              "    }\n",
              "\n",
              "    .dataframe tbody tr th {\n",
              "        vertical-align: top;\n",
              "    }\n",
              "\n",
              "    .dataframe thead th {\n",
              "        text-align: right;\n",
              "    }\n",
              "</style>\n",
              "<table border=\"1\" class=\"dataframe\">\n",
              "  <thead>\n",
              "    <tr style=\"text-align: right;\">\n",
              "      <th></th>\n",
              "      <th>text</th>\n",
              "      <th>label</th>\n",
              "      <th>wordcount</th>\n",
              "      <th>cleaned</th>\n",
              "    </tr>\n",
              "  </thead>\n",
              "  <tbody>\n",
              "    <tr>\n",
              "      <th>0</th>\n",
              "      <td>zucker fabrik</td>\n",
              "      <td>ft</td>\n",
              "      <td>2</td>\n",
              "      <td>zuck fabrik</td>\n",
              "    </tr>\n",
              "    <tr>\n",
              "      <th>1</th>\n",
              "      <td>Lebensmittel kommssionierung</td>\n",
              "      <td>ft</td>\n",
              "      <td>2</td>\n",
              "      <td>lebensmittel kommssionier</td>\n",
              "    </tr>\n",
              "    <tr>\n",
              "      <th>2</th>\n",
              "      <td>geländer biegen</td>\n",
              "      <td>mr</td>\n",
              "      <td>2</td>\n",
              "      <td>geland bieg</td>\n",
              "    </tr>\n",
              "    <tr>\n",
              "      <th>3</th>\n",
              "      <td>gebäudeausrüstung technische</td>\n",
              "      <td>ct</td>\n",
              "      <td>2</td>\n",
              "      <td>gebaudeausrust technisch</td>\n",
              "    </tr>\n",
              "    <tr>\n",
              "      <th>4</th>\n",
              "      <td>kürbiskernöl softgels</td>\n",
              "      <td>ft</td>\n",
              "      <td>2</td>\n",
              "      <td>kurbiskernol softgel</td>\n",
              "    </tr>\n",
              "  </tbody>\n",
              "</table>\n",
              "</div>\n",
              "      <button class=\"colab-df-convert\" onclick=\"convertToInteractive('df-3afeaf8f-d8b5-41fd-9222-560dd9426caa')\"\n",
              "              title=\"Convert this dataframe to an interactive table.\"\n",
              "              style=\"display:none;\">\n",
              "        \n",
              "  <svg xmlns=\"http://www.w3.org/2000/svg\" height=\"24px\"viewBox=\"0 0 24 24\"\n",
              "       width=\"24px\">\n",
              "    <path d=\"M0 0h24v24H0V0z\" fill=\"none\"/>\n",
              "    <path d=\"M18.56 5.44l.94 2.06.94-2.06 2.06-.94-2.06-.94-.94-2.06-.94 2.06-2.06.94zm-11 1L8.5 8.5l.94-2.06 2.06-.94-2.06-.94L8.5 2.5l-.94 2.06-2.06.94zm10 10l.94 2.06.94-2.06 2.06-.94-2.06-.94-.94-2.06-.94 2.06-2.06.94z\"/><path d=\"M17.41 7.96l-1.37-1.37c-.4-.4-.92-.59-1.43-.59-.52 0-1.04.2-1.43.59L10.3 9.45l-7.72 7.72c-.78.78-.78 2.05 0 2.83L4 21.41c.39.39.9.59 1.41.59.51 0 1.02-.2 1.41-.59l7.78-7.78 2.81-2.81c.8-.78.8-2.07 0-2.86zM5.41 20L4 18.59l7.72-7.72 1.47 1.35L5.41 20z\"/>\n",
              "  </svg>\n",
              "      </button>\n",
              "      \n",
              "  <style>\n",
              "    .colab-df-container {\n",
              "      display:flex;\n",
              "      flex-wrap:wrap;\n",
              "      gap: 12px;\n",
              "    }\n",
              "\n",
              "    .colab-df-convert {\n",
              "      background-color: #E8F0FE;\n",
              "      border: none;\n",
              "      border-radius: 50%;\n",
              "      cursor: pointer;\n",
              "      display: none;\n",
              "      fill: #1967D2;\n",
              "      height: 32px;\n",
              "      padding: 0 0 0 0;\n",
              "      width: 32px;\n",
              "    }\n",
              "\n",
              "    .colab-df-convert:hover {\n",
              "      background-color: #E2EBFA;\n",
              "      box-shadow: 0px 1px 2px rgba(60, 64, 67, 0.3), 0px 1px 3px 1px rgba(60, 64, 67, 0.15);\n",
              "      fill: #174EA6;\n",
              "    }\n",
              "\n",
              "    [theme=dark] .colab-df-convert {\n",
              "      background-color: #3B4455;\n",
              "      fill: #D2E3FC;\n",
              "    }\n",
              "\n",
              "    [theme=dark] .colab-df-convert:hover {\n",
              "      background-color: #434B5C;\n",
              "      box-shadow: 0px 1px 3px 1px rgba(0, 0, 0, 0.15);\n",
              "      filter: drop-shadow(0px 1px 2px rgba(0, 0, 0, 0.3));\n",
              "      fill: #FFFFFF;\n",
              "    }\n",
              "  </style>\n",
              "\n",
              "      <script>\n",
              "        const buttonEl =\n",
              "          document.querySelector('#df-3afeaf8f-d8b5-41fd-9222-560dd9426caa button.colab-df-convert');\n",
              "        buttonEl.style.display =\n",
              "          google.colab.kernel.accessAllowed ? 'block' : 'none';\n",
              "\n",
              "        async function convertToInteractive(key) {\n",
              "          const element = document.querySelector('#df-3afeaf8f-d8b5-41fd-9222-560dd9426caa');\n",
              "          const dataTable =\n",
              "            await google.colab.kernel.invokeFunction('convertToInteractive',\n",
              "                                                     [key], {});\n",
              "          if (!dataTable) return;\n",
              "\n",
              "          const docLinkHtml = 'Like what you see? Visit the ' +\n",
              "            '<a target=\"_blank\" href=https://colab.research.google.com/notebooks/data_table.ipynb>data table notebook</a>'\n",
              "            + ' to learn more about interactive tables.';\n",
              "          element.innerHTML = '';\n",
              "          dataTable['output_type'] = 'display_data';\n",
              "          await google.colab.output.renderOutput(dataTable, element);\n",
              "          const docLink = document.createElement('div');\n",
              "          docLink.innerHTML = docLinkHtml;\n",
              "          element.appendChild(docLink);\n",
              "        }\n",
              "      </script>\n",
              "    </div>\n",
              "  </div>\n",
              "  "
            ],
            "text/plain": [
              "                           text label  wordcount                    cleaned\n",
              "0                 zucker fabrik    ft          2                zuck fabrik\n",
              "1  Lebensmittel kommssionierung    ft          2  lebensmittel kommssionier\n",
              "2               geländer biegen    mr          2                geland bieg\n",
              "3  gebäudeausrüstung technische    ct          2   gebaudeausrust technisch\n",
              "4         kürbiskernöl softgels    ft          2       kurbiskernol softgel"
            ]
          },
          "metadata": {},
          "execution_count": 15
        }
      ]
    },
    {
      "cell_type": "markdown",
      "source": [
        "## TF-IDF"
      ],
      "metadata": {
        "id": "bjtL_b3mrB85"
      }
    },
    {
      "cell_type": "markdown",
      "source": [
        "TF-IDF enables us to gives us a way to associate each word in a document with a number that represents how relevant each word is in that document.\n",
        "\n",
        "<b>Advantages:</b>\n",
        "- Easy to compute\n",
        "- You have some basic metric to extract the most descriptive terms in a document\n",
        "- You can easily compute the similarity between 2 documents using it\n",
        "\n",
        "!!!!While i could have used methods like word2vec,fasttext etc. I have sticked to tf-idf because its easy to compute and those methods requires more computing time."
      ],
      "metadata": {
        "id": "J2-M_l2qwgA9"
      }
    },
    {
      "cell_type": "code",
      "source": [
        "vectorizer = TfidfVectorizer()\n",
        "vectorizer.fit(data[\"cleaned\"])"
      ],
      "metadata": {
        "colab": {
          "base_uri": "https://localhost:8080/"
        },
        "id": "eTpNTztvmQ1N",
        "outputId": "992536a3-a219-4a82-c96f-1632313cab77"
      },
      "execution_count": 44,
      "outputs": [
        {
          "output_type": "execute_result",
          "data": {
            "text/plain": [
              "TfidfVectorizer()"
            ]
          },
          "metadata": {},
          "execution_count": 44
        }
      ]
    },
    {
      "cell_type": "markdown",
      "source": [
        "## For labelling the labels , I have used label encoder and saved the classes as .npy to be later used during rest api prediction."
      ],
      "metadata": {
        "id": "nJrw1UA7w-mq"
      }
    },
    {
      "cell_type": "code",
      "source": [
        "from sklearn.preprocessing import LabelEncoder\n",
        "le=LabelEncoder()\n",
        "y = le.fit_transform(data['label'].values)\n",
        "np.save('class.npy', le.classes_,allow_pickle=True)"
      ],
      "metadata": {
        "id": "Uuxytfldybu5"
      },
      "execution_count": 67,
      "outputs": []
    },
    {
      "cell_type": "markdown",
      "source": [
        "## Splitting the data into two parts : Training and Testing(33% of total data)"
      ],
      "metadata": {
        "id": "a6IRBj-rxN5y"
      }
    },
    {
      "cell_type": "code",
      "source": [
        "# Sample data 33% of data to test set\n",
        "X_train, X_test, y_train, y_test = train_test_split(data['cleaned'], y, test_size=0.33, random_state=42)\n",
        "print(X_train.shape)\n",
        "print(X_test.shape)"
      ],
      "metadata": {
        "colab": {
          "base_uri": "https://localhost:8080/"
        },
        "id": "ZlFdCt6YmaYK",
        "outputId": "798f497d-4cbd-450f-e154-f82abd4e26b8"
      },
      "execution_count": 46,
      "outputs": [
        {
          "output_type": "stream",
          "name": "stdout",
          "text": [
            "(24987,)\n",
            "(12308,)\n"
          ]
        }
      ]
    },
    {
      "cell_type": "markdown",
      "source": [
        "## Transforming each sentence to vector using tf-idf"
      ],
      "metadata": {
        "id": "ujfJTU08xVNx"
      }
    },
    {
      "cell_type": "code",
      "source": [
        "# transform each sentence to numeric vector with tf-idf value as elements\n",
        "X_train_vec = vectorizer.transform(X_train)\n",
        "X_test_vec = vectorizer.transform(X_test)\n",
        "X_train_vec.get_shape()"
      ],
      "metadata": {
        "colab": {
          "base_uri": "https://localhost:8080/"
        },
        "id": "Ky16NYaBmeK6",
        "outputId": "06d0cdf3-bea6-4d0e-8c0b-4a55fd35042a"
      },
      "execution_count": 47,
      "outputs": [
        {
          "output_type": "execute_result",
          "data": {
            "text/plain": [
              "(24987, 16119)"
            ]
          },
          "metadata": {},
          "execution_count": 47
        }
      ]
    },
    {
      "cell_type": "markdown",
      "source": [
        "## Classifier used:\n",
        "I have used 3 classifiers:\n",
        "1. LinearSVC\n",
        "2. RandomForest\n",
        "3. xgb (due to its popularity for kaggle competitions)\n",
        "\n",
        "- After training and testing these models on the testing data , I am going to choose best model and do parameter optimization using grid search cv."
      ],
      "metadata": {
        "id": "4tZ5tgAqxbDh"
      }
    },
    {
      "cell_type": "code",
      "source": [
        "# models to test\n",
        "classifiers = [\n",
        "    LinearSVC(random_state=1),\n",
        "    RandomForestClassifier(random_state=1),\n",
        "    XGBClassifier(random_state=1)]\n",
        "# get names of the objects in list (too lazy for c&p...)\n",
        "names = [re.match(r\"[^\\(]+\", name.__str__())[0] for name in classifiers]\n",
        "print(f\"Classifiers to test: {names}\")"
      ],
      "metadata": {
        "colab": {
          "base_uri": "https://localhost:8080/"
        },
        "id": "lyInGjtVmjqM",
        "outputId": "76085a12-6310-47e2-9d8f-57ef6a0bd554"
      },
      "execution_count": 48,
      "outputs": [
        {
          "output_type": "stream",
          "name": "stdout",
          "text": [
            "Classifiers to test: ['LinearSVC', 'RandomForestClassifier', 'XGBClassifier']\n"
          ]
        }
      ]
    },
    {
      "cell_type": "markdown",
      "source": [
        "## Training and Testing "
      ],
      "metadata": {
        "id": "nAn23nqRx3wk"
      }
    },
    {
      "cell_type": "code",
      "source": [
        "# test all classifiers and save pred. results on test data\n",
        "results = {}\n",
        "for name, clf in zip(names, classifiers):\n",
        "    print(f\"Training classifier: {name}\")\n",
        "    clf.fit(X_train_vec, y_train)\n",
        "    prediction = clf.predict(X_test_vec)\n",
        "    report = sklearn.metrics.classification_report(y_test, prediction)\n",
        "    results[name] = report"
      ],
      "metadata": {
        "colab": {
          "base_uri": "https://localhost:8080/"
        },
        "id": "BzCPrFCTmmIr",
        "outputId": "35a66f63-6493-42c9-d4ce-255b8c0c19ef"
      },
      "execution_count": 49,
      "outputs": [
        {
          "output_type": "stream",
          "name": "stdout",
          "text": [
            "Training classifier: LinearSVC\n",
            "Training classifier: RandomForestClassifier\n",
            "Training classifier: XGBClassifier\n",
            "CPU times: user 1min 45s, sys: 212 ms, total: 1min 46s\n",
            "Wall time: 1min 51s\n"
          ]
        }
      ]
    },
    {
      "cell_type": "markdown",
      "source": [
        "## Prediction results"
      ],
      "metadata": {
        "id": "H5VL8ZMVyDZz"
      }
    },
    {
      "cell_type": "code",
      "source": [
        "# Prediction results\n",
        "for k, v in results.items():\n",
        "    print(f\"Results for {k}:\")\n",
        "    print(f\"{v}\\n\")"
      ],
      "metadata": {
        "colab": {
          "base_uri": "https://localhost:8080/"
        },
        "id": "g-7Bswnymobq",
        "outputId": "e1842245-1355-4df1-85d7-492c1b4dc67d"
      },
      "execution_count": 50,
      "outputs": [
        {
          "output_type": "stream",
          "name": "stdout",
          "text": [
            "Results for LinearSVC:\n",
            "              precision    recall  f1-score   support\n",
            "\n",
            "           0       0.94      0.86      0.90      1182\n",
            "           1       0.86      0.66      0.75       858\n",
            "           2       0.95      0.89      0.92      1698\n",
            "           3       0.84      0.94      0.89      3720\n",
            "           4       0.85      0.82      0.84      1673\n",
            "           5       0.89      0.89      0.89      3148\n",
            "           6       1.00      1.00      1.00        29\n",
            "\n",
            "    accuracy                           0.88     12308\n",
            "   macro avg       0.90      0.87      0.88     12308\n",
            "weighted avg       0.88      0.88      0.88     12308\n",
            "\n",
            "\n",
            "Results for RandomForestClassifier:\n",
            "              precision    recall  f1-score   support\n",
            "\n",
            "           0       0.95      0.85      0.89      1182\n",
            "           1       0.87      0.73      0.79       858\n",
            "           2       0.96      0.87      0.91      1698\n",
            "           3       0.82      0.95      0.88      3720\n",
            "           4       0.86      0.81      0.84      1673\n",
            "           5       0.89      0.87      0.88      3148\n",
            "           6       1.00      1.00      1.00        29\n",
            "\n",
            "    accuracy                           0.87     12308\n",
            "   macro avg       0.91      0.87      0.88     12308\n",
            "weighted avg       0.88      0.87      0.87     12308\n",
            "\n",
            "\n",
            "Results for XGBClassifier:\n",
            "              precision    recall  f1-score   support\n",
            "\n",
            "           0       0.95      0.47      0.63      1182\n",
            "           1       0.90      0.64      0.75       858\n",
            "           2       0.99      0.52      0.68      1698\n",
            "           3       0.51      0.97      0.66      3720\n",
            "           4       0.88      0.51      0.65      1673\n",
            "           5       0.89      0.58      0.70      3148\n",
            "           6       1.00      1.00      1.00        29\n",
            "\n",
            "    accuracy                           0.68     12308\n",
            "   macro avg       0.87      0.67      0.72     12308\n",
            "weighted avg       0.79      0.68      0.68     12308\n",
            "\n",
            "\n"
          ]
        }
      ]
    },
    {
      "cell_type": "markdown",
      "source": [
        "## Our LinearSVC has performed decently giving 0.88 accuracy better than random forest and xgb which gave 0.87,0.68.\n",
        "\n",
        "<b>LinearSVC is compartively faster to train compared to other models.</b>"
      ],
      "metadata": {
        "id": "8y1PzpDqyI7P"
      }
    },
    {
      "cell_type": "markdown",
      "source": [
        "## Creating pipeline for the model and optimizing parameters using GridSearchCV"
      ],
      "metadata": {
        "id": "kir40hIZyfh4"
      }
    },
    {
      "cell_type": "markdown",
      "source": [
        "## Best parameters"
      ],
      "metadata": {
        "id": "DPlkHEGRyp8q"
      }
    },
    {
      "cell_type": "code",
      "source": [
        "print(pipe_clf.best_params_)"
      ],
      "metadata": {
        "colab": {
          "base_uri": "https://localhost:8080/"
        },
        "id": "Dl76jVkymtTT",
        "outputId": "5063620e-e4f6-46af-9d75-9683c6e5c402"
      },
      "execution_count": 52,
      "outputs": [
        {
          "output_type": "stream",
          "name": "stdout",
          "text": [
            "{'tfidf__max_df': 0.3, 'tfidf__min_df': 5, 'tfidf__ngram_range': (1, 3)}\n"
          ]
        }
      ]
    },
    {
      "cell_type": "code",
      "source": [
        "# feature creation and modelling in a single function\n",
        "pipe = Pipeline([(\"tfidf\", TfidfVectorizer()), (\"svc\", LinearSVC())])\n",
        "\n",
        "# define parameter space to test # runtime 19min\n",
        "params = {\n",
        "    \"tfidf__ngram_range\": [(1, 3)],\n",
        "    \"tfidf__max_df\": [0.5],\n",
        "    \"tfidf__min_df\": [5],\n",
        "    \"svc__C\": np.arange(0.2, 1, 0.15),\n",
        "}\n",
        "pipe_svc_clf = GridSearchCV(pipe, params, n_jobs=-1, scoring=\"f1_macro\")\n",
        "pipe_svc_clf.fit(X_train, y_train)\n",
        "pickle.dump(pipe_svc_clf, open(\"./pipe_svc_clf.pck\", \"wb\"))"
      ],
      "metadata": {
        "id": "e0IeYKcTmwff"
      },
      "execution_count": null,
      "outputs": []
    },
    {
      "cell_type": "markdown",
      "source": [
        "## Best parameters of the model"
      ],
      "metadata": {
        "id": "WROR1HRCy6l1"
      }
    },
    {
      "cell_type": "code",
      "source": [
        "best_params = pipe_svc_clf.best_params_\n",
        "print(best_params)"
      ],
      "metadata": {
        "colab": {
          "base_uri": "https://localhost:8080/"
        },
        "id": "6wvIgMwpm2u_",
        "outputId": "56373bf5-cbf7-4c71-b151-a21cfdd45ec1"
      },
      "execution_count": 54,
      "outputs": [
        {
          "output_type": "stream",
          "name": "stdout",
          "text": [
            "{'svc__C': 0.35, 'tfidf__max_df': 0.5, 'tfidf__min_df': 5, 'tfidf__ngram_range': (1, 3)}\n"
          ]
        }
      ]
    },
    {
      "cell_type": "code",
      "source": [
        "# run pipe with optimized parameters\n",
        "pipe.set_params(**best_params).fit(X_train, y_train)\n",
        "pipe_pred = pipe.predict(X_test)\n",
        "report = sklearn.metrics.classification_report(y_test, pipe_pred)\n"
      ],
      "metadata": {
        "id": "gZ80O1-cC7_Z"
      },
      "execution_count": null,
      "outputs": []
    },
    {
      "cell_type": "code",
      "source": [
        "pipe_svc_clf.best_estimator_"
      ],
      "metadata": {
        "colab": {
          "base_uri": "https://localhost:8080/"
        },
        "id": "BWJ7wt6WX_gz",
        "outputId": "f3f54239-0239-4b9d-a90a-dd0e7f98cf79"
      },
      "execution_count": 56,
      "outputs": [
        {
          "output_type": "execute_result",
          "data": {
            "text/plain": [
              "Pipeline(steps=[('tfidf',\n",
              "                 TfidfVectorizer(max_df=0.5, min_df=5, ngram_range=(1, 3))),\n",
              "                ('svc', LinearSVC(C=0.35))])"
            ]
          },
          "metadata": {},
          "execution_count": 56
        }
      ]
    },
    {
      "cell_type": "markdown",
      "source": [
        "## saving model later for prediction"
      ],
      "metadata": {
        "id": "7jVzqDmay-zj"
      }
    },
    {
      "cell_type": "code",
      "source": [
        "import joblib\n",
        "joblib.dump(pipe_svc_clf.best_estimator_, 'model.pkl')"
      ],
      "metadata": {
        "id": "LdnTG0LWFRDP",
        "colab": {
          "base_uri": "https://localhost:8080/"
        },
        "outputId": "2ed46350-418a-4baf-f5b0-c617bc48429b"
      },
      "execution_count": 57,
      "outputs": [
        {
          "output_type": "execute_result",
          "data": {
            "text/plain": [
              "['model.pkl']"
            ]
          },
          "metadata": {},
          "execution_count": 57
        }
      ]
    },
    {
      "cell_type": "markdown",
      "source": [
        "## Further Improvements in Model:\n",
        "Due to time constraints I have limited myself to these models only.\n",
        "Following techniques could have been used further to improve the results:\n",
        "1. <b>Data Augmentation:</b> Data Samples could have been increased using \n",
        "- Replace a few words with their synonyms.\n",
        "- Replace a few words with words that have similar (based on cosine similarity) word embeddings (like word2vec or GloVe) to those words.\n",
        "- Replace words based on the context using powerful transformer models (BERT).\n",
        "\n",
        "2. Using pretrained embeddings like glove etc. but challange is to find good pretrained embeddings on german langauge corpus.\n",
        "\n",
        "3. Using chisquare test to limit the number of features in tf-idf\n",
        "\n",
        "4. Using Techniques like:\n",
        "- LSTM/GRU which are specially built for sequence data\n",
        "- attention models like transformers\n"
      ],
      "metadata": {
        "id": "9whEy8gJzIk3"
      }
    },
    {
      "cell_type": "markdown",
      "source": [
        "<b>Overall it was a very straightforward and standard task , I really enjoyed working on this task especially building restapi.</b>\n",
        "\n",
        "I have also uploaded a video in which I showed my model working on my local server."
      ],
      "metadata": {
        "id": "XXmnmNb70bbi"
      }
    },
    {
      "cell_type": "code",
      "source": [
        ""
      ],
      "metadata": {
        "id": "xviUwqgakFOd"
      },
      "execution_count": null,
      "outputs": []
    }
  ]
}